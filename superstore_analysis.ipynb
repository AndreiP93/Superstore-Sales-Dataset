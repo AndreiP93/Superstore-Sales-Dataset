import pandas as pd
import numpy as np
import matplotlib.pyplot as plt
import seaborn as sns
import plotly.express as px

# Loading data
df = pd.read_excel("Sample - Superstore.xls", sheet_name="Orders")

# Exploring data
print(df.head())
print(df.info())
print(df.describe())
print("Missing values:\n", df.isnull().sum())

# Cleaning data
df.drop(["Row ID", "Postal Code"], axis=1, inplace=True)
df.dropna(inplace=True)
df.drop_duplicates(inplace=True)

# Profitability analysis by category
plt.figure(figsize=(10, 5))
sns.barplot(x="Category", y="Profit", data=df, estimator=sum, palette="viridis")
plt.title("Profitability by Category")
plt.show()

# Sales analysis by region
plt.figure(figsize=(10, 5))
sns.boxplot(x="Region", y="Sales", data=df, palette="coolwarm")
plt.title("Sales Distribution by Region")
plt.show()

# Relationship between discount and profit
plt.figure(figsize=(10, 5))
sns.scatterplot(x="Discount", y="Profit", data=df, alpha=0.5)
plt.title("Relationship Between Discount and Profit")
plt.show()

# Interactive dashboard - Sales map by state
fig = px.scatter_geo(df,
                     locations="State",
                     locationmode="USA-states",
                     size="Sales",
                     color="Profit",
                     title="Sales and Profit by State")
fig.show()

# Conclusions
print("\n🔍 Key Insights:")
print("✅ Technology is the most profitable category.")
print("✅ High discounts reduce profitability.")
print("✅ Sales vary significantly by region.")
